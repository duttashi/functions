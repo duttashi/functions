{
 "cells": [
  {
   "cell_type": "markdown",
   "metadata": {},
   "source": [
    "Python Fundamentals\n",
    "\n",
    "1. Variables, Expressions and Statements\n",
    "2. Conditional Expression\n",
    "3. Functions\n",
    "\n",
    "Reference: https://www.py4e.com/lessons"
   ]
  },
  {
   "cell_type": "markdown",
   "metadata": {},
   "source": [
    "### 2.0 Conditional Execution\n",
    "\n",
    "IF Statement"
   ]
  },
  {
   "cell_type": "markdown",
   "metadata": {},
   "source": [
    "2.1 Write a program to prompt the user for hours and rate per hour using input to compute gross pay. Pay the hourly rate for the hours up to 40 and 1.5 times the hourly rate for all hours worked above 40 hours. Use 45 hours and a rate of 10.50 per hour to test the program (the pay should be 498.75). You should use input to read a string and float() to convert the string to a number. Do not worry about error checking the user input - assume the user types numbers properly."
   ]
  },
  {
   "cell_type": "code",
   "execution_count": 1,
   "metadata": {},
   "outputs": [
    {
     "name": "stdout",
     "output_type": "stream",
     "text": [
      "Enter Hours:35\n",
      "Enter rate per hour:2.75\n"
     ]
    },
    {
     "ename": "TypeError",
     "evalue": "can't multiply sequence by non-int of type 'float'",
     "output_type": "error",
     "traceback": [
      "\u001b[1;31m---------------------------------------------------------------------------\u001b[0m",
      "\u001b[1;31mTypeError\u001b[0m                                 Traceback (most recent call last)",
      "\u001b[1;32m<ipython-input-1-6d2c6fb02932>\u001b[0m in \u001b[0;36m<module>\u001b[1;34m()\u001b[0m\n\u001b[0;32m      6\u001b[0m \u001b[1;31m# convert rate per hour to float\u001b[0m\u001b[1;33m\u001b[0m\u001b[1;33m\u001b[0m\u001b[0m\n\u001b[0;32m      7\u001b[0m \u001b[0mrph\u001b[0m\u001b[1;33m=\u001b[0m \u001b[0mfloat\u001b[0m\u001b[1;33m(\u001b[0m\u001b[0mrph\u001b[0m\u001b[1;33m)\u001b[0m\u001b[1;33m\u001b[0m\u001b[0m\n\u001b[1;32m----> 8\u001b[1;33m \u001b[0mpay\u001b[0m \u001b[1;33m=\u001b[0m \u001b[0mhrs\u001b[0m\u001b[1;33m*\u001b[0m \u001b[0mrph\u001b[0m\u001b[1;33m\u001b[0m\u001b[0m\n\u001b[0m\u001b[0;32m      9\u001b[0m \u001b[0mprint\u001b[0m\u001b[1;33m(\u001b[0m\u001b[1;34m\"Your pay is: \"\u001b[0m\u001b[1;33m,\u001b[0m \u001b[0mpay\u001b[0m\u001b[1;33m)\u001b[0m\u001b[1;33m\u001b[0m\u001b[0m\n",
      "\u001b[1;31mTypeError\u001b[0m: can't multiply sequence by non-int of type 'float'"
     ]
    }
   ],
   "source": [
    "hrs = input(\"Enter Hours:\")\n",
    "type(hrs)\n",
    "rph = input(\"Enter rate per hour:\")\n",
    "type(rph)\n",
    "\n",
    "# convert rate per hour to float\n",
    "rph= float(rph)\n",
    "pay = hrs* rph\n",
    "print(\"Your pay is: \", pay)"
   ]
  },
  {
   "cell_type": "markdown",
   "metadata": {},
   "source": [
    "2.2 Write a program to prompt the user for hours and rate per hour using input to compute gross pay. Use 35 hours and a rate of 2.75 per hour to test the program (the pay should be 96.25). You should use input to read a string and float() to convert the string to a number. Do not worry about error checking or bad user data."
   ]
  },
  {
   "cell_type": "markdown",
   "metadata": {},
   "source": [
    "See this [SO post](https://stackoverflow.com/questions/485789/why-do-i-get-typeerror-cant-multiply-sequence-by-non-int-of-type-float/27488582)"
   ]
  },
  {
   "cell_type": "code",
   "execution_count": 1,
   "metadata": {},
   "outputs": [
    {
     "name": "stdout",
     "output_type": "stream",
     "text": [
      "Enter Hours:10\n",
      "Data type is  <class 'str'>\n",
      "Enter rate per hour:2.3\n",
      "Data type is  <class 'str'>\n"
     ]
    }
   ],
   "source": [
    "hrs = input(\"Enter Hours:\")\n",
    "print (\"Data type is \",type(hrs))\n",
    "rph = input(\"Enter rate per hour:\")\n",
    "print (\"Data type is \",type(rph))"
   ]
  },
  {
   "cell_type": "code",
   "execution_count": 4,
   "metadata": {},
   "outputs": [
    {
     "name": "stdout",
     "output_type": "stream",
     "text": [
      "Enter Hours:35\n",
      "Enter rate per hour:2.65\n",
      "Your pay is:  92.75\n"
     ]
    }
   ],
   "source": [
    "hrs = float(input(\"Enter Hours:\"))\n",
    "rph = float(input(\"Enter rate per hour:\"))\n",
    "\n",
    "# convert rate per hour to float\n",
    "pay = hrs* rph\n",
    "print(\"Your pay is: \", pay)"
   ]
  },
  {
   "cell_type": "code",
   "execution_count": 7,
   "metadata": {},
   "outputs": [
    {
     "name": "stdout",
     "output_type": "stream",
     "text": [
      "Enter Hours:40\n",
      "Enter rate per hour:10.50\n",
      "Your pay is:  420.0\n"
     ]
    }
   ],
   "source": [
    "hrs = float(input(\"Enter Hours:\"))\n",
    "rph = float(input(\"Enter rate per hour:\"))\n",
    "\n",
    "# convert rate per hour to float\n",
    "pay = hrs* rph\n",
    "\n",
    "if (hrs<=40):\n",
    "    pay = hrs*rph\n",
    "if (hrs>40):\n",
    "    #rph = 1.5*rph\n",
    "    pay = hrs*1.5*rph\n",
    "    \n",
    "print(\"Your pay is: \", pay)"
   ]
  },
  {
   "cell_type": "markdown",
   "metadata": {},
   "source": [
    "2.3 Write a program to prompt for a score between `0.0` and `1.0`. If the score is out of range, print an error. If the score is between `0.0` and `1.0`, print a grade using the following table:\n",
    "    \n",
    "Score    Grade\n",
    "\n",
    "`>= 0.9`   A\n",
    "\n",
    "`>= 0.8`   B\n",
    "\n",
    "`>= 0.7`   C\n",
    "\n",
    "`>= 0.6`   D\n",
    "\n",
    "`< 0.6`    F\n",
    "\n",
    "If the user enters a value out of range, print a suitable error message and exit. For the test, enter a score of 0.85."
   ]
  },
  {
   "cell_type": "code",
   "execution_count": 1,
   "metadata": {},
   "outputs": [
    {
     "name": "stdout",
     "output_type": "stream",
     "text": [
      "Enter Score: 5\n",
      "Sorry! Out of range value\n"
     ]
    }
   ],
   "source": [
    "score = float(input(\"Enter Score: \"))\n",
    "\n",
    "type(score)\n",
    "\n",
    "if (score>1.0):\n",
    "    print (\"Sorry! Out of range value\")\n",
    "if (score<= 1.0 and score >=0.0):\n",
    "    if(score >= 0.9):\n",
    "        print (\"A\")\n",
    "    elif(score >= 0.8):\n",
    "        print (\"B\")\n",
    "    elif(score >= 0.7):\n",
    "        print (\"C\")\n",
    "    elif(score >= 0.6):\n",
    "        print (\"D\")\n",
    "    elif(score < 0.6):\n",
    "        print (\"F\")\n",
    "    else:\n",
    "        print (\"Logic is wrong\")"
   ]
  },
  {
   "cell_type": "code",
   "execution_count": 73,
   "metadata": {},
   "outputs": [
    {
     "name": "stdout",
     "output_type": "stream",
     "text": [
      "Enter a number-2\n",
      "Incorrect value\n"
     ]
    }
   ],
   "source": [
    "##### Reference: https://www.hackerrank.com/challenges/py-if-else/problem\n",
    "\n",
    "N = int(input(\"Enter a number\"))\n",
    "\n",
    "if (N%2==0 and (N>=2 and N<=5)):\n",
    "    print (\"Not Weird\")\n",
    "elif (N%2==0 and (N>=6 and N<=20)):\n",
    "    print (\"Weird\")\n",
    "elif (N%2==0 and N>20):\n",
    "    print (\"Not Weird\")\n",
    "elif (N%2!=0):\n",
    "    print (\"Weird\")\n",
    "else:\n",
    "    print (\"Incorrect value\")"
   ]
  },
  {
   "cell_type": "markdown",
   "metadata": {},
   "source": [
    "#### Python Division\n",
    "##### Reference: https://www.hackerrank.com/challenges/python-division/problem?h_r=next-challenge&h_v=zen\n",
    "\n",
    "Task \n",
    "Read two integers and print two lines. The first line should contain integer division,  // . The second line should contain float division,  / .\n",
    "\n",
    "You don't need to perform any rounding or formatting operations."
   ]
  },
  {
   "cell_type": "code",
   "execution_count": 78,
   "metadata": {},
   "outputs": [
    {
     "name": "stdout",
     "output_type": "stream",
     "text": [
      "Enter a number: 5\n",
      "Enter a number: 4\n",
      "1\n",
      "1.25\n"
     ]
    }
   ],
   "source": [
    "N = int(input(\"Enter a number: \"))\n",
    "Y = int(input(\"Enter a number: \"))\n",
    "\n",
    "print (N//Y)\n",
    "Y = float(Y)\n",
    "print (N/Y)"
   ]
  },
  {
   "cell_type": "markdown",
   "metadata": {},
   "source": [
    "#### Python Loops\n",
    "\n",
    "Loops are control structures that iterate over a range to perform a certain task.\n",
    "\n",
    "There are two kinds of loops in Python.\n",
    "\n",
    "A **for** loop:\n",
    "\n",
    "```{python}\n",
    "\n",
    "for i in range(0, 5):\n",
    "    print i\n",
    "```\n",
    "And a **while** loop:\n",
    "\n",
    "```{python}\n",
    "i = 0\n",
    "while i < 5:\n",
    "    print i\n",
    "    i += 1\n",
    "```\n"
   ]
  },
  {
   "cell_type": "markdown",
   "metadata": {},
   "source": [
    "Task (Reference: https://www.hackerrank.com/challenges/python-loops/problem?h_r=next-challenge&h_v=zen)\n",
    "\n",
    "Read an integer `N`. For all non-negative integers `i<N`, print `i2 (i squared)`. See the sample for details.\n",
    "\n",
    "Input Format\n",
    "\n",
    "The first and only line contains the integer, .\n",
    "\n",
    "Constraints\n",
    "1<=N<=20\n",
    "\n",
    "Output Format\n",
    "\n",
    "Print `N`lines, one corresponding to each `i`."
   ]
  },
  {
   "cell_type": "code",
   "execution_count": 81,
   "metadata": {},
   "outputs": [
    {
     "name": "stdout",
     "output_type": "stream",
     "text": [
      "5\n",
      "0\n",
      "1\n",
      "4\n",
      "9\n",
      "16\n"
     ]
    }
   ],
   "source": [
    "# Solution\n",
    "\n",
    "n = int(input())\n",
    "\n",
    "if (n<=20):\n",
    "    for i in range (0,n):\n",
    "        print (i*i)\n",
    "else:\n",
    "    print(\"Out of range\")"
   ]
  },
  {
   "cell_type": "markdown",
   "metadata": {},
   "source": [
    "### 3.0 Functions\n",
    "\n",
    "A function begins with the keyword, `def` followed by the function name and parenthesis. Example, `def calculateMarks(){}`. When a function is created, the variables inside the parenthesis are called `Parameters`. When the function is called/invoked, the variables passed into the function are called `arguments`. A function is written to return a value. The functions returning value are called as `Fruitful` functions. Example, `def calculateMarks(){return 1}`. A function not returning a value are called as `void` functions."
   ]
  },
  {
   "cell_type": "markdown",
   "metadata": {},
   "source": [
    "#### 3.1 Exercise\n",
    "\n",
    "Rewrite your pay computation with time-and-a-half for overtime and create a function called **computePay** which takes two parameters `(hours and rate)`.\n",
    "\n",
    "Enter Hours: 45\n",
    "\n",
    "Enter Rate: 10\n",
    "\n",
    "Pay: 475.0\n",
    "\n",
    "Reference: https://www.youtube.com/watch?v=l93PhBUJ_S0&feature=youtu.be"
   ]
  },
  {
   "cell_type": "code",
   "execution_count": 58,
   "metadata": {},
   "outputs": [],
   "source": [
    "# Answer\n",
    "def computePay (hours, rate):\n",
    "    print (\"In computePay\", hours, rate)\n",
    "    \n",
    "    if (hours > 40):\n",
    "        reg = rate * hours\n",
    "        otp = (hours-40.0) * (rate*0.5)\n",
    "        pay = reg + otp\n",
    "    else:\n",
    "        pay = hours * rate\n",
    "        print (\"Returning \", pay)\n",
    "        return pay\n",
    "    \n",
    "#     sh = input(\"Enter hours: \")\n",
    "#     sr = input(\"Enter rate: \")\n",
    "#     fh = float(sh)\n",
    "#     fr = float(sr)\n",
    "    \n",
    "#     xp = computePay(fh, fr)\n",
    "#     print (\"Pay: \", xp)\n",
    "\n",
    "#     # convert rate per hour to float\n",
    "#     pay = hours* rate\n",
    "    \n",
    "#     if (hours<=40):\n",
    "#         pay = hours*rate\n",
    "#     elif (hours>40):\n",
    "#         #rph = 1.5*rph\n",
    "#         pay = hours*1.5*rate\n",
    "#     else:\n",
    "#         print (\"\\n Invalid number of hours or rate\")\n",
    "#         return 0\n",
    "#         #break\n",
    "       \n",
    "#     return pay\n"
   ]
  },
  {
   "cell_type": "code",
   "execution_count": 59,
   "metadata": {},
   "outputs": [
    {
     "name": "stdout",
     "output_type": "stream",
     "text": [
      "In computePay 10 15\n",
      "Returning  150\n",
      "My pay is:  150\n"
     ]
    }
   ],
   "source": [
    "print (\"My pay is: \", computePay(10,15))"
   ]
  },
  {
   "cell_type": "code",
   "execution_count": 60,
   "metadata": {},
   "outputs": [
    {
     "name": "stdout",
     "output_type": "stream",
     "text": [
      "In computePay 40 10\n",
      "Returning  400\n",
      "My pay is:  400\n"
     ]
    }
   ],
   "source": [
    "print (\"My pay is: \", computePay(40,10))"
   ]
  },
  {
   "cell_type": "code",
   "execution_count": 61,
   "metadata": {},
   "outputs": [
    {
     "name": "stdout",
     "output_type": "stream",
     "text": [
      "In computePay 40 -1\n",
      "Returning  -40\n",
      "My pay is:  -40\n"
     ]
    }
   ],
   "source": [
    "print (\"My pay is: \", computePay(40,-1))"
   ]
  },
  {
   "cell_type": "markdown",
   "metadata": {},
   "source": [
    "#### 3.2 Exercise\n",
    "\n",
    "Rewrite the grade program from the previous chapter using a function called **computeGrade** that takes a score as its parameter and returns a grade as a string.\n",
    "\n",
    "Score   Grade\n",
    "\n",
    "`>= 0.9`     A\n",
    "\n",
    "`>= 0.8`     B\n",
    "\n",
    "`>= 0.7`     C\n",
    "\n",
    "`>= 0.6`     D\n",
    "\n",
    "`< 0.6`      F\n",
    "\n",
    "Enter score: 0.95\n",
    "\n",
    "A\n",
    "\n",
    "Enter score: perfect\n",
    "\n",
    "Bad score\n",
    "\n",
    "Enter score: 10.0\n",
    "\n",
    "Bad score\n",
    "\n",
    "Enter score: 0.75\n",
    "\n",
    "C\n",
    "\n",
    "Enter score: 0.5\n",
    "\n",
    "F\n",
    "\n",
    "Run the program repeatedly to test the various different values for input."
   ]
  },
  {
   "cell_type": "code",
   "execution_count": 1,
   "metadata": {},
   "outputs": [],
   "source": [
    "# Answer\n",
    "\n",
    "def computeGrade (score):\n",
    "    if (score >= 0.9 and score<= 1.0):\n",
    "        return \"A\"\n",
    "    elif (score >= 0.8 and score <0.9):\n",
    "        return \"B\"\n",
    "    elif (score >= 0.7 and score <0.8):\n",
    "        return \"C\"\n",
    "    elif (score >= 0.6 and score <0.7):\n",
    "        return \"D\"\n",
    "    elif (score < 0.6 ):\n",
    "        return \"F\"\n",
    "    elif (type(score)=='str'):\n",
    "        return \"Bad score\" "
   ]
  },
  {
   "cell_type": "code",
   "execution_count": 2,
   "metadata": {},
   "outputs": [
    {
     "name": "stdout",
     "output_type": "stream",
     "text": [
      "Enter score:0.9\n"
     ]
    },
    {
     "data": {
      "text/plain": [
       "'A'"
      ]
     },
     "execution_count": 2,
     "metadata": {},
     "output_type": "execute_result"
    }
   ],
   "source": [
    "score = float(input(\"Enter score:\"))\n",
    "computeGrade(score)"
   ]
  },
  {
   "cell_type": "code",
   "execution_count": 4,
   "metadata": {},
   "outputs": [
    {
     "name": "stdout",
     "output_type": "stream",
     "text": [
      "Enter score:0.8\n"
     ]
    },
    {
     "data": {
      "text/plain": [
       "'B'"
      ]
     },
     "execution_count": 4,
     "metadata": {},
     "output_type": "execute_result"
    }
   ],
   "source": [
    "score = float(input(\"Enter score:\"))\n",
    "computeGrade(score)"
   ]
  },
  {
   "cell_type": "code",
   "execution_count": 42,
   "metadata": {},
   "outputs": [
    {
     "name": "stdout",
     "output_type": "stream",
     "text": [
      "Enter score:0.7\n"
     ]
    },
    {
     "data": {
      "text/plain": [
       "'C'"
      ]
     },
     "execution_count": 42,
     "metadata": {},
     "output_type": "execute_result"
    }
   ],
   "source": [
    "score = float(input(\"Enter score:\"))\n",
    "computeGrade(score)"
   ]
  },
  {
   "cell_type": "code",
   "execution_count": 45,
   "metadata": {},
   "outputs": [
    {
     "name": "stdout",
     "output_type": "stream",
     "text": [
      "Enter score:0.2\n"
     ]
    },
    {
     "data": {
      "text/plain": [
       "'F'"
      ]
     },
     "execution_count": 45,
     "metadata": {},
     "output_type": "execute_result"
    }
   ],
   "source": [
    "score = float(input(\"Enter score:\"))\n",
    "computeGrade(score)"
   ]
  },
  {
   "cell_type": "code",
   "execution_count": 5,
   "metadata": {},
   "outputs": [
    {
     "name": "stdout",
     "output_type": "stream",
     "text": [
      "Enter score:p\n"
     ]
    },
    {
     "ename": "TypeError",
     "evalue": "'>=' not supported between instances of 'str' and 'float'",
     "output_type": "error",
     "traceback": [
      "\u001b[1;31m---------------------------------------------------------------------------\u001b[0m",
      "\u001b[1;31mTypeError\u001b[0m                                 Traceback (most recent call last)",
      "\u001b[1;32m<ipython-input-5-d34834e24521>\u001b[0m in \u001b[0;36m<module>\u001b[1;34m()\u001b[0m\n\u001b[0;32m      1\u001b[0m \u001b[0mscore\u001b[0m \u001b[1;33m=\u001b[0m \u001b[0minput\u001b[0m\u001b[1;33m(\u001b[0m\u001b[1;34m\"Enter score:\"\u001b[0m\u001b[1;33m)\u001b[0m\u001b[1;33m\u001b[0m\u001b[0m\n\u001b[1;32m----> 2\u001b[1;33m \u001b[0mcomputeGrade\u001b[0m\u001b[1;33m(\u001b[0m\u001b[0mscore\u001b[0m\u001b[1;33m)\u001b[0m\u001b[1;33m\u001b[0m\u001b[0m\n\u001b[0m",
      "\u001b[1;32m<ipython-input-1-d60ba748e7c5>\u001b[0m in \u001b[0;36mcomputeGrade\u001b[1;34m(score)\u001b[0m\n\u001b[0;32m      2\u001b[0m \u001b[1;33m\u001b[0m\u001b[0m\n\u001b[0;32m      3\u001b[0m \u001b[1;32mdef\u001b[0m \u001b[0mcomputeGrade\u001b[0m \u001b[1;33m(\u001b[0m\u001b[0mscore\u001b[0m\u001b[1;33m)\u001b[0m\u001b[1;33m:\u001b[0m\u001b[1;33m\u001b[0m\u001b[0m\n\u001b[1;32m----> 4\u001b[1;33m     \u001b[1;32mif\u001b[0m \u001b[1;33m(\u001b[0m\u001b[0mscore\u001b[0m \u001b[1;33m>=\u001b[0m \u001b[1;36m0.9\u001b[0m \u001b[1;32mand\u001b[0m \u001b[0mscore\u001b[0m\u001b[1;33m<=\u001b[0m \u001b[1;36m1.0\u001b[0m\u001b[1;33m)\u001b[0m\u001b[1;33m:\u001b[0m\u001b[1;33m\u001b[0m\u001b[0m\n\u001b[0m\u001b[0;32m      5\u001b[0m         \u001b[1;32mreturn\u001b[0m \u001b[1;34m\"A\"\u001b[0m\u001b[1;33m\u001b[0m\u001b[0m\n\u001b[0;32m      6\u001b[0m     \u001b[1;32melif\u001b[0m \u001b[1;33m(\u001b[0m\u001b[0mscore\u001b[0m \u001b[1;33m>=\u001b[0m \u001b[1;36m0.8\u001b[0m \u001b[1;32mand\u001b[0m \u001b[0mscore\u001b[0m \u001b[1;33m<\u001b[0m\u001b[1;36m0.9\u001b[0m\u001b[1;33m)\u001b[0m\u001b[1;33m:\u001b[0m\u001b[1;33m\u001b[0m\u001b[0m\n",
      "\u001b[1;31mTypeError\u001b[0m: '>=' not supported between instances of 'str' and 'float'"
     ]
    }
   ],
   "source": [
    "score = input(\"Enter score:\")\n",
    "computeGrade(score)"
   ]
  },
  {
   "cell_type": "code",
   "execution_count": null,
   "metadata": {},
   "outputs": [],
   "source": []
  }
 ],
 "metadata": {
  "kernelspec": {
   "display_name": "Python 3",
   "language": "python",
   "name": "python3"
  },
  "language_info": {
   "codemirror_mode": {
    "name": "ipython",
    "version": 3
   },
   "file_extension": ".py",
   "mimetype": "text/x-python",
   "name": "python",
   "nbconvert_exporter": "python",
   "pygments_lexer": "ipython3",
   "version": "3.6.5"
  }
 },
 "nbformat": 4,
 "nbformat_minor": 2
}
