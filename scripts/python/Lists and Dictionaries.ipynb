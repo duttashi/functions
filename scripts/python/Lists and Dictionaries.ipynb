{
 "cells": [
  {
   "cell_type": "markdown",
   "metadata": {},
   "source": [
    "Reference: From the book \"Automate the boring stuff with Python\" written by Al Sweigart. [web url](https://automatetheboringstuff.com/chapter5/)"
   ]
  },
  {
   "cell_type": "markdown",
   "metadata": {},
   "source": [
    "### Dictionary in Python\n",
    "\n",
    "Like a list, a dictionary is a collection of many values. But unlike indexes for lists, indexes for dictionaries can use many different data types, not just integers. Indexes for dictionaries are called keys, and a key with its associated value is called a key-value pair.\n",
    "\n",
    "In code, a dictionary is typed with braces, `{}`\n",
    "\n",
    "Unlike lists, items in dictionaries are unordered.\n",
    "\n",
    "Trying to access a key that does not exist in a dictionary will result in a `KeyError` error message, much like a list’s `\"out-of-range” IndexError` error message. \n",
    "\n",
    "Though dictionaries are not ordered, the fact that you can have arbitrary values for the keys allows you to organize your data in powerful ways. \n",
    "\n",
    "Example: Say you wanted your program to store data about your friends’ birthdays. You can use a dictionary with the names as keys and the birthdays as values."
   ]
  },
  {
   "cell_type": "code",
   "execution_count": 2,
   "metadata": {},
   "outputs": [
    {
     "name": "stdout",
     "output_type": "stream",
     "text": [
      "Enter a name (blank to quit): \n",
      "alice\n",
      "I do not have birthday for alice\n",
      "What is their birthday?\n",
      "24\n",
      "Birthday database updated.\n",
      "Enter a name (blank to quit): \n",
      "alice\n",
      "24 is the birthday of alice\n",
      "Enter a name (blank to quit): \n",
      "\n"
     ]
    }
   ],
   "source": [
    "birthdays = {'Alice': 'Apr 1', 'Bob': 'Dec 12', 'Carol': 'Mar 4'}\n",
    "\n",
    "while(True):\n",
    "    print(\"Enter a name (blank to quit): \")\n",
    "    name= input()\n",
    "    if(name==\"\"):\n",
    "        break # terminate the program\n",
    "    if(name in birthdays):\n",
    "        print(birthdays[name] + ' is the birthday of ' + name)\n",
    "    else:\n",
    "        print(\"I do not have birthday for \"+ name)\n",
    "        print('What is their birthday?')\n",
    "        bday = input()\n",
    "        birthdays[name] = bday        \n",
    "        print('Birthday database updated.')        "
   ]
  },
  {
   "cell_type": "markdown",
   "metadata": {},
   "source": [
    "#### The keys(), values(), and items() Methods\n",
    "\n",
    "There are three dictionary methods that will return list-like values of the dictionary’s keys, values, or both keys and values: `keys()`, `values()`, and `items()`. The values returned by these methods are not true lists: They cannot be modified and do not have an append() method. But these data types `(dict_keys, dict_values, and dict_items`, respectively) can be used in for loops.\n",
    "\n",
    "#### Checking Whether a Key or Value Exists in a Dictionary\n",
    "\n",
    "The `in` and `not in` operators can check whether a value exists in a list. You can also use these operators to see whether a certain key or value exists in a dictionary.\n",
    "\n",
    "##### Example-1\n",
    "\n",
    "Create a program to count the number of characters in a string."
   ]
  },
  {
   "cell_type": "code",
   "execution_count": 6,
   "metadata": {},
   "outputs": [
    {
     "name": "stdout",
     "output_type": "stream",
     "text": [
      "{'I': 1, 't': 6, ' ': 13, 'w': 2, 'a': 4, 's': 3, 'b': 1, 'r': 5, 'i': 6, 'g': 2, 'h': 3, 'c': 3, 'o': 2, 'l': 3, 'd': 3, 'y': 1, 'n': 4, 'A': 1, 'p': 1, ',': 1, 'e': 5, 'k': 2, '.': 1}\n"
     ]
    }
   ],
   "source": [
    "message = 'It was a bright cold day in April, and the clocks were striking thirteen.'\n",
    "count = {}\n",
    "\n",
    "for character in message:\n",
    "    count.setdefault(character, 0)\n",
    "    count[character] = count[character] + 1\n",
    "print(count)"
   ]
  },
  {
   "cell_type": "markdown",
   "metadata": {},
   "source": [
    "##### Example-2\n",
    "\n",
    "Modify the code in Example-1 to accept a string from user and count the number of characters in it. Use `pprint()` to beautify the output."
   ]
  },
  {
   "cell_type": "code",
   "execution_count": 8,
   "metadata": {},
   "outputs": [
    {
     "name": "stdout",
     "output_type": "stream",
     "text": [
      "\n",
      "Enter a string to count its characters: \n",
      "it's a bright and sunny day\n",
      "{' ': 5,\n",
      " \"'\": 1,\n",
      " 'a': 3,\n",
      " 'b': 1,\n",
      " 'd': 2,\n",
      " 'g': 1,\n",
      " 'h': 1,\n",
      " 'i': 2,\n",
      " 'n': 3,\n",
      " 'r': 1,\n",
      " 's': 2,\n",
      " 't': 2,\n",
      " 'u': 1,\n",
      " 'y': 2}\n"
     ]
    }
   ],
   "source": [
    "import pprint\n",
    "\n",
    "print (\"\\nEnter a string to count its characters: \")\n",
    "message = input()\n",
    "count = {}\n",
    "\n",
    "for character in message:\n",
    "    count.setdefault(character, 0)\n",
    "    count[character] = count[character] + 1\n",
    "pprint.pprint (count)"
   ]
  },
  {
   "cell_type": "code",
   "execution_count": null,
   "metadata": {},
   "outputs": [],
   "source": []
  }
 ],
 "metadata": {
  "kernelspec": {
   "display_name": "Python 3",
   "language": "python",
   "name": "python3"
  },
  "language_info": {
   "codemirror_mode": {
    "name": "ipython",
    "version": 3
   },
   "file_extension": ".py",
   "mimetype": "text/x-python",
   "name": "python",
   "nbconvert_exporter": "python",
   "pygments_lexer": "ipython3",
   "version": "3.7.1"
  }
 },
 "nbformat": 4,
 "nbformat_minor": 2
}
