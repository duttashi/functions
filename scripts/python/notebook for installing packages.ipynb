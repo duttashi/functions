{
 "cells": [
  {
   "cell_type": "code",
   "execution_count": 1,
   "metadata": {},
   "outputs": [
    {
     "name": "stdout",
     "output_type": "stream",
     "text": [
      "3.7.1 (default, Dec 10 2018, 22:54:23) [MSC v.1915 64 bit (AMD64)]\n"
     ]
    }
   ],
   "source": [
    "# check python version\n",
    "import sys\n",
    "print(sys.version)"
   ]
  },
  {
   "cell_type": "code",
   "execution_count": null,
   "metadata": {},
   "outputs": [],
   "source": [
    "# install packages\n",
    "!conda install --yes --prefix {sys.prefix} pandas"
   ]
  },
  {
   "cell_type": "code",
   "execution_count": 1,
   "metadata": {},
   "outputs": [
    {
     "name": "stdout",
     "output_type": "stream",
     "text": [
      "\n",
      "The following command must be run outside of the IPython shell:\n",
      "\n",
      "    $ pip install tweepy\n",
      "\n",
      "The Python package manager (pip) can only be used from outside of IPython.\n",
      "Please reissue the `pip` command in a separate terminal or command prompt.\n",
      "\n",
      "See the Python documentation for more information on how to install packages:\n",
      "\n",
      "    https://docs.python.org/3/installing/\n"
     ]
    }
   ],
   "source": [
    "pip install tweepy"
   ]
  },
  {
   "cell_type": "markdown",
   "metadata": {},
   "source": [
    "Steps to install python packages if using IPython\n",
    "\n",
    "Step 1: Browse to python location on your computer. In my case its in `c:\\Users\\myusername\\Miniconda3`\n",
    "Step 2: Open command prompt in this location\n",
    "Step 3: Type `pip install <package name>` and press enter key\n",
    "Step 4: Package will be installed"
   ]
  },
  {
   "cell_type": "markdown",
   "metadata": {},
   "source": [
    "#### Check installed packages and their versions"
   ]
  },
  {
   "cell_type": "code",
   "execution_count": 2,
   "metadata": {},
   "outputs": [
    {
     "name": "stdout",
     "output_type": "stream",
     "text": [
      "\n",
      "Please wait a moment while I gather a list of all available modules...\n",
      "\n"
     ]
    },
    {
     "name": "stderr",
     "output_type": "stream",
     "text": [
      "C:\\Users\\Ashoo\\Miniconda3\\lib\\site-packages\\IPython\\kernel\\__init__.py:13: ShimWarning: The `IPython.kernel` package has been deprecated since IPython 4.0.You should import from ipykernel or jupyter_client instead.\n",
      "  \"You should import from ipykernel or jupyter_client instead.\", ShimWarning)\n",
      "C:\\Users\\Ashoo\\Miniconda3\\lib\\pkgutil.py:107: VisibleDeprecationWarning: zmq.eventloop.minitornado is deprecated in pyzmq 14.0 and will be removed.\n",
      "    Install tornado itself to use zmq with the tornado IOLoop.\n",
      "    \n",
      "  yield from walk_packages(path, info.name+'.', onerror)\n"
     ]
    },
    {
     "name": "stdout",
     "output_type": "stream",
     "text": [
      "IPython             bz2                 mmsystem            symtable\n",
      "OpenSSL             cProfile            modulefinder        sys\n",
      "PIL                 calendar            msilib              sysconfig\n",
      "PyQt5               certifi             msvcrt              tabnanny\n",
      "__future__          cffi                multiprocessing     tarfile\n",
      "_abc                cgi                 nbconvert           telnetlib\n",
      "_ast                cgitb               nbformat            tempfile\n",
      "_asyncio            chardet             netbios             terminado\n",
      "_bisect             chunk               netrc               test\n",
      "_blake2             clyent              nntplib             test_data\n",
      "_bootlocale         cmath               notebook            test_pycosat\n",
      "_bz2                cmd                 nt                  testpath\n",
      "_cffi_backend       code                ntpath              tests\n",
      "_codecs             codecs              ntsecuritycon       textwrap\n",
      "_codecs_cn          codeop              nturl2path          this\n",
      "_codecs_hk          collections         numbers             threading\n",
      "_codecs_iso2022     colorama            odbc                time\n",
      "_codecs_jp          colorsys            olefile             timeit\n",
      "_codecs_kr          commctrl            opcode              timer\n",
      "_codecs_tw          compileall          operator            tkinter\n",
      "_collections        concurrent          optparse            token\n",
      "_collections_abc    conda               os                  tokenize\n",
      "_compat_pickle      conda_env           pandocfilters       tornado\n",
      "_compression        configparser        parser              trace\n",
      "_contextvars        contextlib          parso               traceback\n",
      "_csv                contextvars         pathlib             tracemalloc\n",
      "_ctypes             copy                pdb                 traitlets\n",
      "_ctypes_test        copyreg             perfmon             tty\n",
      "_datetime           crypt               pickle              turtle\n",
      "_decimal            cryptography        pickleshare         turtledemo\n",
      "_distutils_findvs   csv                 pickletools         types\n",
      "_dummy_thread       ctypes              pip                 typing\n",
      "_elementtree        curses              pipes               unicodedata\n",
      "_functools          cwp                 pkg_resources       unittest\n",
      "_hashlib            cythonmagic         pkgutil             urllib\n",
      "_heapq              dataclasses         platform            urllib3\n",
      "_imp                datetime            plistlib            uu\n",
      "_io                 dateutil            poplib              uuid\n",
      "_json               dbi                 posixpath           venv\n",
      "_locale             dbm                 pprint              warnings\n",
      "_lsprof             dde                 profile             wave\n",
      "_lzma               decimal             prometheus_client   wcwidth\n",
      "_markupbase         decorator           prompt_toolkit      weakref\n",
      "_md5                difflib             pstats              webbrowser\n",
      "_msi                dis                 psutil              webencodings\n",
      "_multibytecodec     distutils           pty                 wheel\n",
      "_multiprocessing    doctest             py_compile          widgetsnbextension\n",
      "_nsis               dummy_threading     pyclbr              win2kras\n",
      "_opcode             easy_install        pycosat             win32api\n",
      "_operator           email               pycparser           win32clipboard\n",
      "_osx_support        encodings           pydoc               win32com\n",
      "_overlapped         ensurepip           pydoc_data          win32con\n",
      "_pickle             entrypoints         pyexpat             win32console\n",
      "_py_abc             enum                pygments            win32cred\n",
      "_pydecimal          errno               pythoncom           win32crypt\n",
      "_pyio               faulthandler        pytz                win32cryptcon\n",
      "_queue              filecmp             pywin               win32event\n",
      "_random             fileinput           pywin32_testutil    win32evtlog\n",
      "_sha1               fnmatch             pywintypes          win32evtlogutil\n",
      "_sha256             formatter           qtconsole           win32file\n",
      "_sha3               fractions           qtpy                win32gui\n",
      "_sha512             ftplib              queue               win32gui_struct\n",
      "_signal             functools           quopri              win32help\n",
      "_sitebuiltins       gc                  random              win32inet\n",
      "_socket             genericpath         rasutil             win32inetcon\n",
      "_sqlite3            getopt              re                  win32job\n",
      "_sre                getpass             regcheck            win32lz\n",
      "_ssl                gettext             regutil             win32net\n",
      "_stat               glob                reprlib             win32netcon\n",
      "_string             gzip                requests            win32pdh\n",
      "_strptime           hashlib             rlcompleter         win32pdhquery\n",
      "_struct             heapq               rmagic              win32pdhutil\n",
      "_symtable           hmac                ruamel_yaml         win32pipe\n",
      "_system_path        html                runpy               win32print\n",
      "_testbuffer         http                sched               win32process\n",
      "_testcapi           idlelib             scripts             win32profile\n",
      "_testconsole        idna                secrets             win32ras\n",
      "_testimportmultiple imaplib             select              win32rcparser\n",
      "_testmultiphase     imghdr              selectors           win32security\n",
      "_thread             imp                 send2trash          win32service\n",
      "_threading_local    importlib           servicemanager      win32serviceutil\n",
      "_tkinter            inspect             setuptools          win32timezone\n",
      "_tracemalloc        io                  shelve              win32trace\n",
      "_warnings           ipaddress           shlex               win32traceutil\n",
      "_weakref            ipykernel           shutil              win32transaction\n",
      "_weakrefset         ipykernel_launcher  signal              win32ts\n",
      "_win32sysloader     ipython_genutils    sip                 win32ui\n",
      "_winapi             ipywidgets          sipconfig           win32uiole\n",
      "_winxptheme         isapi               sipdistutils        win32verstamp\n",
      "_yaml               itertools           site                win32wnet\n",
      "abc                 jedi                six                 win_inet_pton\n",
      "adodbapi            jinja2              smtpd               wincertstore\n",
      "afxres              json                smtplib             winerror\n",
      "aifc                jsonschema          sndhdr              winioctlcon\n",
      "anaconda_navigator  jupyter             socket              winnt\n",
      "antigravity         jupyter_client      socketserver        winperf\n",
      "argparse            jupyter_console     socks               winpty\n",
      "array               jupyter_core        sockshandler        winreg\n",
      "asn1crypto          keyword             sqlite3             winsound\n",
      "ast                 lib2to3             sre_compile         winxpgui\n",
      "asynchat            linecache           sre_constants       winxptheme\n",
      "asyncio             locale              sre_parse           wsgiref\n",
      "asyncore            logging             ssl                 xdrlib\n",
      "atexit              lzma                sspi                xml\n",
      "audioop             macpath             sspicon             xmlrpc\n",
      "autoreload          mailbox             stat                xxsubtype\n",
      "backcall            mailcap             statistics          yaml\n",
      "base64              markupsafe          storemagic          zipapp\n",
      "bdb                 marshal             string              zipfile\n",
      "binascii            math                stringprep          zipimport\n",
      "binhex              menuinst            struct              zlib\n",
      "binstar_client      mimetypes           subprocess          zmq\n",
      "bisect              mistune             sunau               \n",
      "bleach              mmap                symbol              \n",
      "builtins            mmapfile            sympyprinting       \n",
      "\n",
      "Enter any module name to get more help.  Or, type \"modules spam\" to search\n",
      "for modules whose name or summary contain the string \"spam\".\n",
      "\n"
     ]
    }
   ],
   "source": [
    "help('modules')"
   ]
  },
  {
   "cell_type": "code",
   "execution_count": 5,
   "metadata": {},
   "outputs": [
    {
     "name": "stdout",
     "output_type": "stream",
     "text": [
      "Help on package tweepy:\n",
      "\n",
      "NAME\n",
      "    tweepy - Tweepy Twitter API library\n",
      "\n",
      "PACKAGE CONTENTS\n",
      "    api\n",
      "    auth\n",
      "    binder\n",
      "    cache\n",
      "    cursor\n",
      "    error\n",
      "    models\n",
      "    parsers\n",
      "    streaming\n",
      "    utils\n",
      "\n",
      "FUNCTIONS\n",
      "    debug(enable=True, level=1)\n",
      "\n",
      "DATA\n",
      "    __license__ = 'MIT'\n",
      "    api = <tweepy.api.API object>\n",
      "\n",
      "VERSION\n",
      "    3.6.0\n",
      "\n",
      "AUTHOR\n",
      "    Joshua Roesslein\n",
      "\n",
      "FILE\n",
      "    c:\\users\\ashoo\\miniconda3\\lib\\site-packages\\tweepy\\__init__.py\n",
      "\n",
      "\n"
     ]
    }
   ],
   "source": [
    "help('tweepy')"
   ]
  }
 ],
 "metadata": {
  "kernelspec": {
   "display_name": "Python 3",
   "language": "python",
   "name": "python3"
  },
  "language_info": {
   "codemirror_mode": {
    "name": "ipython",
    "version": 3
   },
   "file_extension": ".py",
   "mimetype": "text/x-python",
   "name": "python",
   "nbconvert_exporter": "python",
   "pygments_lexer": "ipython3",
   "version": "3.7.1"
  }
 },
 "nbformat": 4,
 "nbformat_minor": 2
}
