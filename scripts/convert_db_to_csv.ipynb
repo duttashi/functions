{
 "cells": [
  {
   "cell_type": "code",
   "execution_count": 12,
   "metadata": {},
   "outputs": [],
   "source": [
    "import sqlite3\n",
    "from sqlite3 import Error\n",
    "import pandas as pd"
   ]
  },
  {
   "cell_type": "code",
   "execution_count": 6,
   "metadata": {},
   "outputs": [],
   "source": [
    "dataPath = \"C:\\\\Users\\\\Ashoo\\\\Documents\\\\Internship @ Moving Walls Sdn bhd\\\\MWPR_3032018_201\\\\wifi_19-01-01_03_56.db\""
   ]
  },
  {
   "cell_type": "code",
   "execution_count": 7,
   "metadata": {},
   "outputs": [],
   "source": [
    "# create database connection\n",
    "conn = sqlite3.connect(dataPath)"
   ]
  },
  {
   "cell_type": "code",
   "execution_count": 22,
   "metadata": {},
   "outputs": [],
   "source": [
    "# a custom function to create database connection\n",
    "# Reference: http://www.sqlitetutorial.net/sqlite-python/sqlite-python-select/\n",
    "def create_connection(db_file):\n",
    "    try:\n",
    "        conn = sqlite3.connect(db_file)\n",
    "        return conn\n",
    "    except Error as e:\n",
    "        print(e)\n",
    " \n",
    "    return None"
   ]
  },
  {
   "cell_type": "code",
   "execution_count": 23,
   "metadata": {},
   "outputs": [],
   "source": [
    "# create a function for reading the Wifi table\n",
    "def read_write_wifi_tbl_to_csv(conn):\n",
    "    cur = conn.cursor()\n",
    "    query='select * from WIFI'\n",
    "    data=pd.read_sql(query,conn)\n",
    "    data.to_csv('wifiTbl.csv')"
   ]
  },
  {
   "cell_type": "code",
   "execution_count": 24,
   "metadata": {},
   "outputs": [
    {
     "name": "stdout",
     "output_type": "stream",
     "text": [
      "Read the db file and wrote to disc in csv format\n"
     ]
    }
   ],
   "source": [
    "def main():\n",
    "    \n",
    "    conn = create_connection(dataPath)\n",
    "    with conn:\n",
    "               \n",
    "        print(\"Read the db file and wrote to disc in csv format\")\n",
    "        read_write_wifi_tbl_to_csv(conn)\n",
    " \n",
    "# Execute the main function \n",
    "if __name__ == '__main__':\n",
    "    main()"
   ]
  },
  {
   "cell_type": "code",
   "execution_count": null,
   "metadata": {},
   "outputs": [],
   "source": []
  }
 ],
 "metadata": {
  "kernelspec": {
   "display_name": "Python 3",
   "language": "python",
   "name": "python3"
  },
  "language_info": {
   "codemirror_mode": {
    "name": "ipython",
    "version": 3
   },
   "file_extension": ".py",
   "mimetype": "text/x-python",
   "name": "python",
   "nbconvert_exporter": "python",
   "pygments_lexer": "ipython3",
   "version": "3.6.5"
  }
 },
 "nbformat": 4,
 "nbformat_minor": 2
}
